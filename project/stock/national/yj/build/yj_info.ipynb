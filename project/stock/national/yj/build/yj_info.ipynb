{
 "cells": [
  {
   "cell_type": "markdown",
   "metadata": {},
   "source": [
    "### 데이터\n",
    ": 일정 시간 간격으로 생성되는 여러 개의 가격봉에 대한 지지선과 저항선 구하기"
   ]
  },
  {
   "cell_type": "markdown",
   "metadata": {},
   "source": [
    "#### 지지선  \n",
    ": 일정 시간 간격으로 생성되는 봉의 저점들의 평균  \n",
    "\n",
    "<br/>  \n",
    "\n",
    "> 지지선 구하기  "
   ]
  },
  {
   "cell_type": "code",
   "execution_count": 1,
   "metadata": {},
   "outputs": [],
   "source": [
    "import requests\n",
    "import json\n",
    "import yaml\n",
    "import time"
   ]
  },
  {
   "cell_type": "code",
   "execution_count": 2,
   "metadata": {},
   "outputs": [],
   "source": [
    "def get_access_token():\n",
    "    \"\"\"토큰 발급\"\"\"\n",
    "    headers = {\"content-type\":\"application/json\"}\n",
    "    body = {\"grant_type\":\"client_credentials\",\n",
    "    \"appkey\":APP_KEY, \n",
    "    \"appsecret\":APP_SECRET}\n",
    "    PATH = \"oauth2/tokenP\"\n",
    "    URL = f\"{URL_BASE}/{PATH}\"\n",
    "    res = requests.post(URL, headers=headers, data=json.dumps(body))\n",
    "    ACCESS_TOKEN = res.json()[\"access_token\"]\n",
    "    return ACCESS_TOKEN\n",
    "\n",
    "config_path_gcs = '/workspaces/codespaces-blank/project/stock/config.yaml'\n",
    "\n",
    "with open(config_path_gcs, encoding='UTF-8') as f:\n",
    "    _cfg = yaml.load(f, Loader=yaml.FullLoader)\n",
    "APP_KEY = _cfg['APP_KEY']\n",
    "APP_SECRET = _cfg['APP_SECRET']\n",
    "ACCESS_TOKEN = \"\"\n",
    "CANO = _cfg['CANO']\n",
    "ACNT_PRDT_CD = _cfg['ACNT_PRDT_CD']\n",
    "DISCORD_WEBHOOK_URL = _cfg['DISCORD_WEBHOOK_URL']\n",
    "URL_BASE = _cfg['URL_BASE']\n",
    "\n",
    "ACCESS_TOKEN = get_access_token()\n",
    "\n"
   ]
  },
  {
   "cell_type": "code",
   "execution_count": 3,
   "metadata": {},
   "outputs": [],
   "source": [
    "def get_current_price(code: str=\"005930\"):\n",
    "    \"\"\"현재가 조회\"\"\"\n",
    "    PATH = \"uapi/domestic-stock/v1/quotations/inquire-price\"\n",
    "    URL = f\"{URL_BASE}/{PATH}\"\n",
    "    headers = {\"Content-Type\":\"application/json\", \n",
    "            \"authorization\": f\"Bearer {ACCESS_TOKEN}\",\n",
    "            \"appKey\":APP_KEY,\n",
    "            \"appSecret\":APP_SECRET,\n",
    "            \"tr_id\":\"FHKST01010100\"}\n",
    "    params = {\n",
    "    \"fid_cond_mrkt_div_code\":\"J\",\n",
    "    \"fid_input_iscd\":code,\n",
    "    }\n",
    "    res = requests.get(URL, headers=headers, params=params)\n",
    "    return int(res.json()['output']['stck_prpr'])"
   ]
  },
  {
   "cell_type": "code",
   "execution_count": 4,
   "metadata": {},
   "outputs": [],
   "source": [
    "def get_support_line(code: str=\"005930\", num_of_bar: int=15, term_of_bar: int=3):\n",
    "    bar = list()    # 봉\n",
    "    low = 0    # 각 봉의 최저\n",
    "    support = 0    # 지지선\n",
    "\n",
    "    end = time.time() + term_of_bar*60\n",
    "\n",
    "    for b in range(num_of_bar):    # 봉의 개수 만큼 반복\n",
    "        while time.time() <= end:    # 봉이 생성되는 시간 동안 현재가를 받아 가격봉 생성\n",
    "            bar.append(get_current_price(code))\n",
    "        bar.sort()    # 오름차순 정렬\n",
    "        low += bar[0]    # 최저가\n",
    "        bar = list()    # 봉 초기화\n",
    "\n",
    "        end = time.time() + term_of_bar*60    # 다음 봉의 생성을 위해 시간 설정\n",
    "    support = low/num_of_bar    # 지지선(최저의 평균)\n",
    "    \n",
    "    return support"
   ]
  },
  {
   "cell_type": "code",
   "execution_count": null,
   "metadata": {},
   "outputs": [],
   "source": [
    "print(get_support_line(\"252670\", 2, 1))"
   ]
  },
  {
   "cell_type": "markdown",
   "metadata": {},
   "source": [
    "#### 저항선  \n",
    ": 일정 시간 간격으로 생성되는 봉의 고점들의 평균\n",
    "\n",
    "<br/>\n",
    "\n",
    "> 저항선 구하기"
   ]
  },
  {
   "cell_type": "code",
   "execution_count": 5,
   "metadata": {},
   "outputs": [],
   "source": [
    "def get_resistant_line(code: str=\"22005930\", num_of_bar: int=15, term_of_bar: int=3):\n",
    "    bar = list()    # 봉\n",
    "    high = 0    # 각 봉의 최고\n",
    "    resistance = 0    # 지지선\n",
    "\n",
    "    end = time.time() + term_of_bar*60    # 반복할 시간\n",
    "\n",
    "    for b in range(num_of_bar):    # 봉의 개수 만큼 반복\n",
    "        while time.time() <= end:    # 봉이 생성되는 시간 동안 현재가를 받아 가격봉 생성\n",
    "            bar.append(get_current_price(code))\n",
    "        bar.sort(reverse=True)    # 오름차순 정렬\n",
    "        high += bar[0]    # 최고가\n",
    "        bar = list()    # 봉 초기화\n",
    "\n",
    "        end = time.time() + term_of_bar*60    # 다음 봉의 생성을 위해 시간 설정\n",
    "    resistance = high/num_of_bar    # 저항선(최고의 평균)\n",
    "    \n",
    "    return resistance"
   ]
  },
  {
   "cell_type": "code",
   "execution_count": 41,
   "metadata": {},
   "outputs": [
    {
     "name": "stdout",
     "output_type": "stream",
     "text": [
      "2745.0\n"
     ]
    }
   ],
   "source": [
    "print(get_resistant_line(\"252670\", 2, 1))"
   ]
  },
  {
   "cell_type": "markdown",
   "metadata": {},
   "source": [
    "#### 거래량 확인\n",
    "\n",
    "<br/>  \n",
    "\n",
    "> 실시간 거래량 구하기"
   ]
  },
  {
   "cell_type": "code",
   "execution_count": 6,
   "metadata": {},
   "outputs": [],
   "source": [
    "import FinanceDataReader as fdr\n",
    "import pandas as pd"
   ]
  },
  {
   "cell_type": "code",
   "execution_count": 15,
   "metadata": {},
   "outputs": [
    {
     "data": {
      "text/html": [
       "<div>\n",
       "<style scoped>\n",
       "    .dataframe tbody tr th:only-of-type {\n",
       "        vertical-align: middle;\n",
       "    }\n",
       "\n",
       "    .dataframe tbody tr th {\n",
       "        vertical-align: top;\n",
       "    }\n",
       "\n",
       "    .dataframe thead th {\n",
       "        text-align: right;\n",
       "    }\n",
       "</style>\n",
       "<table border=\"1\" class=\"dataframe\">\n",
       "  <thead>\n",
       "    <tr style=\"text-align: right;\">\n",
       "      <th></th>\n",
       "      <th>Open</th>\n",
       "      <th>High</th>\n",
       "      <th>Low</th>\n",
       "      <th>Close</th>\n",
       "      <th>Volume</th>\n",
       "      <th>Change</th>\n",
       "    </tr>\n",
       "    <tr>\n",
       "      <th>Date</th>\n",
       "      <th></th>\n",
       "      <th></th>\n",
       "      <th></th>\n",
       "      <th></th>\n",
       "      <th></th>\n",
       "      <th></th>\n",
       "    </tr>\n",
       "  </thead>\n",
       "  <tbody>\n",
       "    <tr>\n",
       "      <th>2023-10-04</th>\n",
       "      <td>2810</td>\n",
       "      <td>2880</td>\n",
       "      <td>2810</td>\n",
       "      <td>2870</td>\n",
       "      <td>112919783</td>\n",
       "      <td>0.053211</td>\n",
       "    </tr>\n",
       "    <tr>\n",
       "      <th>2023-10-05</th>\n",
       "      <td>2830</td>\n",
       "      <td>2880</td>\n",
       "      <td>2830</td>\n",
       "      <td>2870</td>\n",
       "      <td>110344954</td>\n",
       "      <td>0.000000</td>\n",
       "    </tr>\n",
       "    <tr>\n",
       "      <th>2023-10-06</th>\n",
       "      <td>2860</td>\n",
       "      <td>2880</td>\n",
       "      <td>2835</td>\n",
       "      <td>2865</td>\n",
       "      <td>97731027</td>\n",
       "      <td>-0.001742</td>\n",
       "    </tr>\n",
       "    <tr>\n",
       "      <th>2023-10-10</th>\n",
       "      <td>2790</td>\n",
       "      <td>2860</td>\n",
       "      <td>2755</td>\n",
       "      <td>2850</td>\n",
       "      <td>115052992</td>\n",
       "      <td>-0.005236</td>\n",
       "    </tr>\n",
       "    <tr>\n",
       "      <th>2023-10-11</th>\n",
       "      <td>2765</td>\n",
       "      <td>2770</td>\n",
       "      <td>2710</td>\n",
       "      <td>2755</td>\n",
       "      <td>137405853</td>\n",
       "      <td>-0.033333</td>\n",
       "    </tr>\n",
       "  </tbody>\n",
       "</table>\n",
       "</div>"
      ],
      "text/plain": [
       "            Open  High   Low  Close     Volume    Change\n",
       "Date                                                    \n",
       "2023-10-04  2810  2880  2810   2870  112919783  0.053211\n",
       "2023-10-05  2830  2880  2830   2870  110344954  0.000000\n",
       "2023-10-06  2860  2880  2835   2865   97731027 -0.001742\n",
       "2023-10-10  2790  2860  2755   2850  115052992 -0.005236\n",
       "2023-10-11  2765  2770  2710   2755  137405853 -0.033333"
      ]
     },
     "execution_count": 15,
     "metadata": {},
     "output_type": "execute_result"
    }
   ],
   "source": [
    "test = fdr.DataReader(\"252670\", \"2023-10-01\", \"2023-11-07\")\n",
    "test.head()"
   ]
  },
  {
   "cell_type": "markdown",
   "metadata": {},
   "source": [
    "finance-datareader는 일간 데이터만 제공하므로 적합하지 않음  \n",
    "\n",
    "\n",
    "한국투자증권 api를 활용해야 함"
   ]
  },
  {
   "cell_type": "code",
   "execution_count": 38,
   "metadata": {},
   "outputs": [],
   "source": [
    "def get_acml_volume(code: str=\"005930\"):    # 일간 누적 거래량\n",
    "    PATH = \"uapi/domestic-stock/v1/quotations/inquire-price\"\n",
    "    URL = f\"{URL_BASE}/{PATH}\"\n",
    "    headers = {\"Content-Type\":\"application/json\", \n",
    "            \"authorization\": f\"Bearer {ACCESS_TOKEN}\",\n",
    "            \"appKey\":APP_KEY,\n",
    "            \"appSecret\":APP_SECRET,\n",
    "            \"tr_id\":\"FHKST01010100\"}\n",
    "    params = {\n",
    "    \"fid_cond_mrkt_div_code\":\"J\",\n",
    "    \"fid_input_iscd\":code,\n",
    "    }\n",
    "    res = requests.get(URL, headers=headers, params=params)\n",
    "\n",
    "    return int(res.json()['output']['acml_vol'])"
   ]
  },
  {
   "cell_type": "code",
   "execution_count": 18,
   "metadata": {},
   "outputs": [
    {
     "name": "stdout",
     "output_type": "stream",
     "text": [
      "141879880\n"
     ]
    }
   ],
   "source": [
    "print(get_acml_volume(\"252670\"))"
   ]
  },
  {
   "cell_type": "markdown",
   "metadata": {},
   "source": [
    "3분 간격으로 volume을 체크해야 함 "
   ]
  },
  {
   "cell_type": "code",
   "execution_count": 39,
   "metadata": {},
   "outputs": [],
   "source": [
    "def get_mmty_volume(code: str=\"005930\", term_of_bar: int=3):\n",
    "    mmty_volume = 0\n",
    "    base = get_acml_volume(code)\n",
    "\n",
    "    end = time.time() + term_of_bar*60\n",
    "\n",
    "    while time.time() <= end:\n",
    "        acml = get_acml_volume(code)\n",
    "        mmty_volume = acml-base\n",
    "    \n",
    "    return mmty_volume"
   ]
  },
  {
   "cell_type": "code",
   "execution_count": 48,
   "metadata": {},
   "outputs": [
    {
     "name": "stdout",
     "output_type": "stream",
     "text": [
      "0\n"
     ]
    }
   ],
   "source": [
    "print(get_mmty_volume(\"252670\", 1))"
   ]
  },
  {
   "cell_type": "markdown",
   "metadata": {},
   "source": [
    "문제: 지지선과 저항선, 거래량을 따로따로 구하면 세 가지 자료의 시점에 오차가 발생할 확률이 매우 높음  \n",
    "&rarr; 세 가지 자료를 한 번에, 한 함수 안에서 구해야 함  \n",
    "&rarr; 세 가지 데이터 및 저항선, 지지선을 구하는 프로그램을 따로 구현하여 계속 데이터를 업데이트 하도록 하기 \n",
    "\n",
    "<br/>  \n",
    "\n",
    "> 분봉, 저점, 고점, 분봉 생성 시의 거래량, 지지선, 저항선 구하기"
   ]
  },
  {
   "cell_type": "code",
   "execution_count": 1,
   "metadata": {},
   "outputs": [],
   "source": [
    "import requests\n",
    "import json\n",
    "import yaml\n",
    "import datetime\n",
    "import time\n",
    "from multiprocessing import Process"
   ]
  },
  {
   "cell_type": "code",
   "execution_count": 2,
   "metadata": {},
   "outputs": [],
   "source": [
    "config_path_gcs = '/workspaces/codespaces-blank/project/stock/config.yaml'\n",
    "\n",
    "with open(config_path_gcs, encoding='UTF-8') as f:\n",
    "    _cfg = yaml.load(f, Loader=yaml.FullLoader)\n",
    "APP_KEY = _cfg['APP_KEY']\n",
    "APP_SECRET = _cfg['APP_SECRET']\n",
    "ACCESS_TOKEN = \"\"\n",
    "CANO = _cfg['CANO']\n",
    "ACNT_PRDT_CD = _cfg['ACNT_PRDT_CD']\n",
    "DISCORD_WEBHOOK_URL = _cfg['DISCORD_WEBHOOK_URL']\n",
    "URL_BASE = _cfg['URL_BASE']\n",
    "f = open(\"/workspaces/codespaces-blank/project/stock/national/yj/data/access_token.txt\", \"r\")\n",
    "ACCESS_TOKEN = f.readline()\n",
    "f.close()"
   ]
  },
  {
   "cell_type": "code",
   "execution_count": 3,
   "metadata": {},
   "outputs": [],
   "source": [
    "def send_message(msg):    # 디스코드 메시지 전송\n",
    "    now = datetime.datetime.now()\n",
    "    message = {\"content\": f\"[{now.strftime('%Y-%m-%d %H:%M:%S')}] {str(msg)}\"}\n",
    "    requests.post(DISCORD_WEBHOOK_URL, data=message)\n",
    "    print(message)\n",
    "\n",
    "def get_acml_volume(code: str=\"005930\"):    # 일간 누적 거래량\n",
    "    PATH = \"uapi/domestic-stock/v1/quotations/inquire-price\"\n",
    "    URL = f\"{URL_BASE}/{PATH}\"\n",
    "    headers = {\"Content-Type\":\"application/json\", \n",
    "            \"authorization\": f\"Bearer {ACCESS_TOKEN}\",\n",
    "            \"appKey\":APP_KEY,\n",
    "            \"appSecret\":APP_SECRET,\n",
    "            \"tr_id\":\"FHKST01010100\"}\n",
    "    params = {\n",
    "    \"fid_cond_mrkt_div_code\":\"J\",\n",
    "    \"fid_input_iscd\":code,\n",
    "    }\n",
    "    res = requests.get(URL, headers=headers, params=params)\n",
    "\n",
    "    return int(res.json()['output']['acml_vol'])\n",
    "\n",
    "def get_current_price(code: str=\"005930\"):    # 현재가 조회\n",
    "    PATH = \"uapi/domestic-stock/v1/quotations/inquire-price\"\n",
    "    URL = f\"{URL_BASE}/{PATH}\"\n",
    "    headers = {\"Content-Type\":\"application/json\", \n",
    "            \"authorization\": f\"Bearer {ACCESS_TOKEN}\",\n",
    "            \"appKey\":APP_KEY,\n",
    "            \"appSecret\":APP_SECRET,\n",
    "            \"tr_id\":\"FHKST01010100\"}\n",
    "    params = {\n",
    "    \"fid_cond_mrkt_div_code\":\"J\",\n",
    "    \"fid_input_iscd\":code,\n",
    "    }\n",
    "    res = requests.get(URL, headers=headers, params=params)\n",
    "    \n",
    "    return int(res.json()['output']['stck_prpr'])"
   ]
  },
  {
   "cell_type": "code",
   "execution_count": 4,
   "metadata": {},
   "outputs": [],
   "source": [
    "class Stock_Info:\n",
    "    def __init__(self, code: str=\"005930\", term_of_bar: int=3, term_of_line: int=5, iteration: int=4, file_name: str=\"0\"):\n",
    "        self.code: str = code    # 종목 코드\n",
    "        self.term_of_bar: int = term_of_bar    # 봉 생성 시간(분)\n",
    "        self.term_of_line: int = term_of_line    # 지지선 및 저항선을 구할 때 필요한 봉의 개수\n",
    "        self.iteration: int = iteration    # 반복 횟수\n",
    "        self.file_name: str = file_name    # 파일 이름\n",
    "        self.pr_low = list()    # 저점 리스트\n",
    "        self.pr_high = list()    # 고점 리스트\n",
    "        self.volume = 0    # 거래량\n",
    "        self.support = 0    # 지지선\n",
    "        self.resistant = 0    # 저항선\n",
    "\n",
    "    def get_information(self):    # 종목의 저점, 고점, 거래량, 지지선, 저항선 구하기\n",
    "        while self.support == 0:    # 지지선 및 저항선이 구해질 때까지 반복\n",
    "            bar = list()    # 가격봉\n",
    "            mmty_volume = 0    # 봉이 생성되는 동안의 거래량\n",
    "            base = get_acml_volume(self.code)    # 현재까지의 누적 거래량(기준)\n",
    "            end = time.time() + self.term_of_bar*5\n",
    "\n",
    "            while time.time() <= end:    # 봉이 생성되는 시간 동안 현재가를 받아 가격봉 생성\n",
    "                bar.append(get_current_price(self.code))\n",
    "                acml = get_acml_volume(self.code)    # 현재까지의 누적 거래량(실시간)\n",
    "                mmty_volume = acml-base    # 봉이 생성되는 동안의 거래량\n",
    "\n",
    "            bar.sort()    # 오름차순 정렬\n",
    "            self.pr_low.append(bar[0])    # 최저가를 리스트에 추가\n",
    "            self.pr_high.append(bar[-1])    # 최고가를 리스트에 추가\n",
    "            self.volume = mmty_volume    # 거래량\n",
    "\n",
    "            f_volume = open(\"/workspaces/codespaces-blank/project/stock/national/yj/volume/volume\"+self.file_name+\".txt\", \"a\")    # 거래량을 저장할 파일 열기\n",
    "            f_volume.write(str(self.volume)+\"\\n\")    # 거래량 파일에 쓰기\n",
    "            f_volume.close()    # 파일 닫기\n",
    "\n",
    "            if len(self.pr_low) >= self.term_of_line:    # 지지선 및 저항선을 구하는 조건\n",
    "                self.get_support_resistant()    # 지지선 및 저항선 구하기\n",
    "\n",
    "    def get_support_resistant(self):    # 종목의 지지선 및 저항선 구하기\n",
    "        self.support = 0    # 지지선 초기화\n",
    "        self.resistant = 0    # 저항선 초기화\n",
    "\n",
    "        for i in range(len(self.pr_low)):    # 저점 리스트의 길이만큼 반복\n",
    "            self.support += int(self.pr_low[i])    # 데이터 중 저점들의 합\n",
    "            self.resistant += int(self.pr_high[i])    # 데이터 중 고점들의 합\n",
    "        self.support /= self.term_of_line    # 지지선\n",
    "        self.resistant /= self.term_of_line    #저항선\n",
    "\n",
    "        self.pr_low = list()    # 저점 리스트 초기화\n",
    "        self.pr_high = list()    # 고점 리스트 초기화\n",
    "\n",
    "        f_sup = open(\"/workspaces/codespaces-blank/project/stock/national/yj/line/support\"+self.file_name+\".txt\", \"a\")    # 지지선 값을 저장할 파일 열기\n",
    "        f_res = open(\"/workspaces/codespaces-blank/project/stock/national/yj/line/resistant\"+self.file_name+\".txt\", \"a\")    # 저항선 값을 저장할 파일 열기\n",
    "        f_sup.write(str(self.support)+\"\\n\")    # 지지선 값 파일에 쓰기\n",
    "        f_res.write(str(self.resistant)+\"\\n\")    # 저항선 값 파일에 쓰기\n",
    "        f_sup.close()    # 파일 닫기\n",
    "        f_res.close()    # 파일 닫기\n",
    "\n",
    "        send_message(self.code+\" \"+\"support: \"+str(self.support))    # 지지선 값 메시지로 보내기\n",
    "        send_message(self.code+\" \"+\"resistant: \"+str(self.resistant))    # 저항선 값 메시지로 보내기\n"
   ]
  },
  {
   "cell_type": "code",
   "execution_count": 6,
   "metadata": {},
   "outputs": [
    {
     "name": "stdout",
     "output_type": "stream",
     "text": [
      "[9610]\n",
      "[9610]\n",
      "[10565]\n",
      "[10565]\n",
      "[9595]\n",
      "[9595]\n",
      "[9610, 9610]\n",
      "[9610, 9610]\n",
      "[10565, 10565][9595, 9595]\n",
      "[10565, 10565]\n",
      "\n",
      "[9595, 9595]\n",
      "[9595, 9595, 9595]\n",
      "[9595, 9595, 9595]\n",
      "hello\n",
      "[9610, 9610, 9610]\n",
      "[9610, 9610, 9610]\n",
      "hello\n",
      "[10565, 10565, 10565]\n",
      "[10565, 10565, 10565]\n",
      "hello\n",
      "{'content': '[2023-11-19 13:18:48] 441640 support: 9610.0'}{'content': '[2023-11-19 13:18:48] 441680 support: 9595.0'}\n",
      "\n",
      "{'content': '[2023-11-19 13:18:49] 453870 support: 10565.0'}\n",
      "{'content': '[2023-11-19 13:18:49] 441640 resistant: 9610.0'}\n",
      "{'content': '[2023-11-19 13:18:49] 441680 resistant: 9595.0'}\n",
      "{'content': '[2023-11-19 13:18:49] 453870 resistant: 10565.0'}\n",
      "[10565]\n",
      "[10565]\n",
      "[9595]\n",
      "[9595][9610]\n",
      "\n",
      "[9610]\n",
      "[10565, 10565]\n",
      "[10565, 10565]\n",
      "[9595, 9595][9610, 9610]\n",
      "\n",
      "[9595, 9595][9610, 9610]\n",
      "\n",
      "[10565, 10565, 10565]\n",
      "[10565, 10565, 10565]\n",
      "hello\n",
      "[9610, 9610, 9610]\n",
      "[9610, 9610, 9610]\n",
      "hello\n",
      "[9595, 9595, 9595]\n",
      "[9595, 9595, 9595]\n",
      "hello\n",
      "{'content': '[2023-11-19 13:19:07] 453870 support: 10565.0'}\n",
      "{'content': '[2023-11-19 13:19:07] 441640 support: 9610.0'}\n",
      "{'content': '[2023-11-19 13:19:07] 441680 support: 9595.0'}\n",
      "{'content': '[2023-11-19 13:19:07] 453870 resistant: 10565.0'}\n",
      "{'content': '[2023-11-19 13:19:07] 441640 resistant: 9610.0'}\n",
      "{'content': '[2023-11-19 13:19:07] 441680 resistant: 9595.0'}\n",
      "[10565]\n",
      "[10565]\n",
      "[9610]\n",
      "[9610]\n",
      "[9595]\n",
      "[9595]\n",
      "[10565, 10565]\n",
      "[10565, 10565]\n",
      "[9595, 9595]\n",
      "[9595, 9595]\n",
      "[9610, 9610]\n",
      "[9610, 9610]\n",
      "[9595, 9595, 9595]\n",
      "[9595, 9595, 9595]\n",
      "hello\n",
      "[10565, 10565, 10565]\n",
      "[10565, 10565, 10565]\n",
      "hello\n",
      "[9610, 9610, 9610]\n",
      "[9610, 9610, 9610]\n",
      "hello\n",
      "{'content': '[2023-11-19 13:19:24] 441680 support: 9595.0'}\n",
      "{'content': '[2023-11-19 13:19:24] 453870 support: 10565.0'}\n",
      "{'content': '[2023-11-19 13:19:24] 441640 support: 9610.0'}\n",
      "{'content': '[2023-11-19 13:19:25] 441680 resistant: 9595.0'}\n",
      "{'content': '[2023-11-19 13:19:25] 453870 resistant: 10565.0'}\n",
      "{'content': '[2023-11-19 13:19:25] 441640 resistant: 9610.0'}\n",
      "[9610]\n",
      "[9610]\n",
      "[10565]\n",
      "[10565]\n",
      "[9595]\n",
      "[9595]\n",
      "[9610, 9610]\n",
      "[9610, 9610]\n",
      "[9595, 9595]\n",
      "[9595, 9595]\n",
      "[10565, 10565]\n",
      "[10565, 10565]\n",
      "[9610, 9610, 9610]\n",
      "[9610, 9610, 9610]\n",
      "hello\n",
      "[10565, 10565, 10565]\n",
      "[10565, 10565, 10565]\n",
      "hello\n",
      "[9595, 9595, 9595]\n",
      "[9595, 9595, 9595]\n",
      "hello\n",
      "{'content': '[2023-11-19 13:19:42] 441640 support: 9610.0'}\n",
      "{'content': '[2023-11-19 13:19:42] 453870 support: 10565.0'}\n",
      "{'content': '[2023-11-19 13:19:42] 441640 resistant: 9610.0'}\n",
      "{'content': '[2023-11-19 13:19:42] 441680 support: 9595.0'}\n",
      "{'content': '[2023-11-19 13:19:43] 453870 resistant: 10565.0'}\n",
      "{'content': '[2023-11-19 13:19:43] 441680 resistant: 9595.0'}\n",
      "[9610]\n",
      "[9610]\n",
      "[9595]\n",
      "[9595]\n",
      "[10565]\n",
      "[10565]\n",
      "[9610, 9610]\n",
      "[9610, 9610]\n",
      "[9595, 9595]\n",
      "[9595, 9595]\n",
      "[10565, 10565]\n",
      "[10565, 10565]\n",
      "[9610, 9610, 9610]\n",
      "[9610, 9610, 9610]\n",
      "hello\n",
      "[9595, 9595, 9595]\n",
      "[9595, 9595, 9595]\n",
      "hello\n",
      "[10565, 10565, 10565]\n",
      "[10565, 10565, 10565]\n",
      "hello\n",
      "{'content': '[2023-11-19 13:20:00] 441640 support: 9610.0'}\n",
      "{'content': '[2023-11-19 13:20:00] 441680 support: 9595.0'}\n",
      "{'content': '[2023-11-19 13:20:00] 453870 support: 10565.0'}\n",
      "{'content': '[2023-11-19 13:20:00] 441640 resistant: 9610.0'}\n",
      "{'content': '[2023-11-19 13:20:01] 453870 resistant: 10565.0'}\n",
      "{'content': '[2023-11-19 13:20:01] 441680 resistant: 9595.0'}\n",
      "[10565]\n",
      "[10565]\n",
      "[9610]\n",
      "[9610]\n",
      "[9595]\n",
      "[9595]\n",
      "[10565, 10565]\n",
      "[10565, 10565]\n",
      "[9610, 9610]\n",
      "[9610, 9610]\n",
      "[9595, 9595]\n",
      "[9595, 9595]\n"
     ]
    },
    {
     "ename": "KeyboardInterrupt",
     "evalue": "",
     "output_type": "error",
     "traceback": [
      "\u001b[0;31m---------------------------------------------------------------------------\u001b[0m",
      "\u001b[0;31mKeyboardInterrupt\u001b[0m                         Traceback (most recent call last)",
      "\u001b[1;32m/workspaces/codespaces-blank/project/stock/national/yj/build/yj_info.ipynb Cell 26\u001b[0m line \u001b[0;36m1\n\u001b[1;32m     <a href='vscode-notebook-cell://codespaces%2Bstudious-succotash-q7q795pjgrgh67v6/workspaces/codespaces-blank/project/stock/national/yj/build/yj_info.ipynb#X34sdnNjb2RlLXJlbW90ZQ%3D%3D?line=15'>16</a>\u001b[0m     proc\u001b[39m.\u001b[39mstart()\n\u001b[1;32m     <a href='vscode-notebook-cell://codespaces%2Bstudious-succotash-q7q795pjgrgh67v6/workspaces/codespaces-blank/project/stock/national/yj/build/yj_info.ipynb#X34sdnNjb2RlLXJlbW90ZQ%3D%3D?line=16'>17</a>\u001b[0m \u001b[39mfor\u001b[39;00m proc \u001b[39min\u001b[39;00m procs:\n\u001b[0;32m---> <a href='vscode-notebook-cell://codespaces%2Bstudious-succotash-q7q795pjgrgh67v6/workspaces/codespaces-blank/project/stock/national/yj/build/yj_info.ipynb#X34sdnNjb2RlLXJlbW90ZQ%3D%3D?line=17'>18</a>\u001b[0m     proc\u001b[39m.\u001b[39;49mjoin()\n",
      "File \u001b[0;32m~/miniconda3/envs/pr_stock/lib/python3.8/multiprocessing/process.py:149\u001b[0m, in \u001b[0;36mBaseProcess.join\u001b[0;34m(self, timeout)\u001b[0m\n\u001b[1;32m    147\u001b[0m \u001b[39massert\u001b[39;00m \u001b[39mself\u001b[39m\u001b[39m.\u001b[39m_parent_pid \u001b[39m==\u001b[39m os\u001b[39m.\u001b[39mgetpid(), \u001b[39m'\u001b[39m\u001b[39mcan only join a child process\u001b[39m\u001b[39m'\u001b[39m\n\u001b[1;32m    148\u001b[0m \u001b[39massert\u001b[39;00m \u001b[39mself\u001b[39m\u001b[39m.\u001b[39m_popen \u001b[39mis\u001b[39;00m \u001b[39mnot\u001b[39;00m \u001b[39mNone\u001b[39;00m, \u001b[39m'\u001b[39m\u001b[39mcan only join a started process\u001b[39m\u001b[39m'\u001b[39m\n\u001b[0;32m--> 149\u001b[0m res \u001b[39m=\u001b[39m \u001b[39mself\u001b[39;49m\u001b[39m.\u001b[39;49m_popen\u001b[39m.\u001b[39;49mwait(timeout)\n\u001b[1;32m    150\u001b[0m \u001b[39mif\u001b[39;00m res \u001b[39mis\u001b[39;00m \u001b[39mnot\u001b[39;00m \u001b[39mNone\u001b[39;00m:\n\u001b[1;32m    151\u001b[0m     _children\u001b[39m.\u001b[39mdiscard(\u001b[39mself\u001b[39m)\n",
      "File \u001b[0;32m~/miniconda3/envs/pr_stock/lib/python3.8/multiprocessing/popen_fork.py:47\u001b[0m, in \u001b[0;36mPopen.wait\u001b[0;34m(self, timeout)\u001b[0m\n\u001b[1;32m     45\u001b[0m             \u001b[39mreturn\u001b[39;00m \u001b[39mNone\u001b[39;00m\n\u001b[1;32m     46\u001b[0m     \u001b[39m# This shouldn't block if wait() returned successfully.\u001b[39;00m\n\u001b[0;32m---> 47\u001b[0m     \u001b[39mreturn\u001b[39;00m \u001b[39mself\u001b[39;49m\u001b[39m.\u001b[39;49mpoll(os\u001b[39m.\u001b[39;49mWNOHANG \u001b[39mif\u001b[39;49;00m timeout \u001b[39m==\u001b[39;49m \u001b[39m0.0\u001b[39;49m \u001b[39melse\u001b[39;49;00m \u001b[39m0\u001b[39;49m)\n\u001b[1;32m     48\u001b[0m \u001b[39mreturn\u001b[39;00m \u001b[39mself\u001b[39m\u001b[39m.\u001b[39mreturncode\n",
      "File \u001b[0;32m~/miniconda3/envs/pr_stock/lib/python3.8/multiprocessing/popen_fork.py:27\u001b[0m, in \u001b[0;36mPopen.poll\u001b[0;34m(self, flag)\u001b[0m\n\u001b[1;32m     25\u001b[0m \u001b[39mif\u001b[39;00m \u001b[39mself\u001b[39m\u001b[39m.\u001b[39mreturncode \u001b[39mis\u001b[39;00m \u001b[39mNone\u001b[39;00m:\n\u001b[1;32m     26\u001b[0m     \u001b[39mtry\u001b[39;00m:\n\u001b[0;32m---> 27\u001b[0m         pid, sts \u001b[39m=\u001b[39m os\u001b[39m.\u001b[39;49mwaitpid(\u001b[39mself\u001b[39;49m\u001b[39m.\u001b[39;49mpid, flag)\n\u001b[1;32m     28\u001b[0m     \u001b[39mexcept\u001b[39;00m \u001b[39mOSError\u001b[39;00m \u001b[39mas\u001b[39;00m e:\n\u001b[1;32m     29\u001b[0m         \u001b[39m# Child process not yet created. See #1731717\u001b[39;00m\n\u001b[1;32m     30\u001b[0m         \u001b[39m# e.errno == errno.ECHILD == 10\u001b[39;00m\n\u001b[1;32m     31\u001b[0m         \u001b[39mreturn\u001b[39;00m \u001b[39mNone\u001b[39;00m\n",
      "\u001b[0;31mKeyboardInterrupt\u001b[0m: "
     ]
    },
    {
     "name": "stdout",
     "output_type": "stream",
     "text": [
      "[10565, 10565, 10565]\n",
      "[10565, 10565, 10565]\n",
      "hello\n",
      "[9610, 9610, 9610]\n",
      "[9610, 9610, 9610]\n",
      "hello\n",
      "[9595, 9595, 9595]\n",
      "[9595, 9595, 9595]\n",
      "hello\n",
      "{'content': '[2023-11-19 13:20:18] 441640 support: 9610.0'}\n",
      "{'content': '[2023-11-19 13:20:18] 453870 support: 10565.0'}\n",
      "{'content': '[2023-11-19 13:20:18] 441680 support: 9595.0'}\n",
      "{'content': '[2023-11-19 13:20:19] 441640 resistant: 9610.0'}\n",
      "{'content': '[2023-11-19 13:20:19] 453870 resistant: 10565.0'}\n",
      "{'content': '[2023-11-19 13:20:19] 441680 resistant: 9595.0'}\n"
     ]
    }
   ],
   "source": [
    "while True:\n",
    "    f_req = open(\"/workspaces/codespaces-blank/project/stock/national/yj/data/request.txt\", \"r\")    # 요청 사항 파일 열기\n",
    "    req = f_req.readlines()    # 요청 사항 읽기\n",
    "    f_req.close()    # 파일 닫기\n",
    "    for i in range(len(req)):\n",
    "            req[i] = req[i].strip()    # 요청 사항 내용 중 개행 문자 제거\n",
    "\n",
    "    info = list()    # 종목 정보 리스트\n",
    "    for i in range(0, len(req)-2, 2):\n",
    "        info.append(Stock_Info(req[i], int(req[i+1]), int(req[-2]), 4, str(i//2)))    # 각 종목에 대한 정보 클래스 인스턴스 생성\n",
    "\n",
    "    procs = []    # CPU 작업 리스트\n",
    "    for i in range(0, len(req)-2, 2):    # 요청 사항 중 종목 코드에만 접근\n",
    "        proc = Process(target=info[i//2].get_information)    # 데이터 구하는 작업 병렬 수행\n",
    "        procs.append(proc)\n",
    "        proc.start()\n",
    "    for proc in procs:\n",
    "        proc.join()"
   ]
  },
  {
   "cell_type": "code",
   "execution_count": 15,
   "metadata": {},
   "outputs": [
    {
     "name": "stdout",
     "output_type": "stream",
     "text": [
      "<Process name='Process-19' pid=35033 parent=10689 stopped exitcode=0>\n",
      "<Process name='Process-20' pid=35034 parent=10689 stopped exitcode=0>\n",
      "<Process name='Process-21' pid=35035 parent=10689 stopped exitcode=0>\n"
     ]
    }
   ],
   "source": [
    "for i in range(len(procs)):\n",
    "    print(procs[i])"
   ]
  },
  {
   "cell_type": "code",
   "execution_count": 19,
   "metadata": {},
   "outputs": [
    {
     "name": "stdout",
     "output_type": "stream",
     "text": [
      "<class 'int'>\n"
     ]
    }
   ],
   "source": [
    "t_now = datetime.datetime.now()\n",
    "print(type(t_now.minute))"
   ]
  }
 ],
 "metadata": {
  "kernelspec": {
   "display_name": "pr_stock",
   "language": "python",
   "name": "python3"
  },
  "language_info": {
   "codemirror_mode": {
    "name": "ipython",
    "version": 3
   },
   "file_extension": ".py",
   "mimetype": "text/x-python",
   "name": "python",
   "nbconvert_exporter": "python",
   "pygments_lexer": "ipython3",
   "version": "3.8.18"
  }
 },
 "nbformat": 4,
 "nbformat_minor": 2
}
